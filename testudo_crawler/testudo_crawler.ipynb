{
 "cells": [
  {
   "cell_type": "code",
   "execution_count": 1,
   "id": "verified-camel",
   "metadata": {},
   "outputs": [
    {
     "name": "stdout",
     "output_type": "stream",
     "text": [
      "Requirement already satisfied: html5lib in /opt/conda/lib/python3.8/site-packages (1.1)\r\n",
      "Requirement already satisfied: webencodings in /opt/conda/lib/python3.8/site-packages (from html5lib) (0.5.1)\r\n",
      "Requirement already satisfied: six>=1.9 in /opt/conda/lib/python3.8/site-packages (from html5lib) (1.15.0)\r\n"
     ]
    }
   ],
   "source": [
    "import requests\n",
    "from bs4 import BeautifulSoup\n",
    "import pandas as pd\n",
    "import numpy as np\n",
    "import re\n",
    "from datetime import datetime\n",
    "import matplotlib.pyplot as plt\n",
    "import sys\n",
    "import sqlite3\n",
    "\n",
    "try:\n",
    "    !{sys.executable} -m pip install html5lib\n",
    "except Exception as e:\n",
    "    print(e)\n",
    "    print(e.__doc__)\n",
    "    \n",
    "import html5lib"
   ]
  },
  {
   "cell_type": "code",
   "execution_count": 2,
   "id": "outstanding-primary",
   "metadata": {},
   "outputs": [],
   "source": [
    "def addCourseInfo(df,container_list):\n",
    "    for s in container_list:\n",
    "        section_list = s.findChildren('span',{'class':'section-id'})\n",
    "        total_seats_list = s.findChildren('span',{'class':'total-seats-count'})\n",
    "        open_seats_list = s.findChildren('span',{'class':'open-seats-count'})\n",
    "        class_day_list = s.findChildren('div',{'class':'class-days-container'})\n",
    "        for d in class_day_list:\n",
    "            date_list = d.findChildren('span',{'class':'section-days'})\n",
    "            start_time_list = d.findChildren('span',{'class':'class-start-time'})\n",
    "            end_time_list = d.findChildren('span',{'class':'class-end-time'})\n",
    "            building_list = d.findChildren('span',{'class':'building-code'})\n",
    "            classroom_list = d.findChildren('span',{'class':'class-room'})\n",
    "            if building_list and classroom_list and start_time_list and date_list:\n",
    "                section_number = str(section_list[0].text).split()[0]\n",
    "                students_number = int(total_seats_list[0].text)-int(open_seats_list[0].text)\n",
    "                for i in range(len(building_list)):\n",
    "                    if(str(building_list[i].text)!='TBA' and str(date_list[i].text)!='TBA'):\n",
    "                        df2 = {'Major':major,'Course_id':course_id,'Section':section_number,'Building':building_list[i].text,'Classroom':classroom_list[i].text,'Section_days':date_list[i].text,'Start_time':start_time_list[i].text,'End_time':end_time_list[i].text,'Students_number':students_number}\n",
    "                        df = df.append(df2, ignore_index = True)\n",
    "    return df"
   ]
  },
  {
   "cell_type": "code",
   "execution_count": null,
   "id": "joined-affairs",
   "metadata": {
    "scrolled": false
   },
   "outputs": [],
   "source": [
    "URL = \"https://app.testudo.umd.edu/soc/202101\"\n",
    "r = requests.get(url = URL)\n",
    "soup = BeautifulSoup(r.content, 'html.parser')\n",
    "t_list = soup.find_all('a',{'class':'clearfix'})\n",
    "df = pd.DataFrame(columns=['Major','Course_id','Section','Building','Classroom','Section_days','Start_time','End_time','Students_number'])\n",
    "for item in t_list:\n",
    "    major = item['href'][-4:]\n",
    "    major_url = 'https://app.testudo.umd.edu/soc/search?courseId='+major+'&sectionId=&termId=202101&_openSectionsOnly=on&creditCompare=%3E%3D&credits=0.0&courseLevelFilter=ALL&instructor=&facetoface=true&_facetoface=on&blended=true&_blended=on&_online=on&courseStartCompare=&courseStartHour=&courseStartMin=&courseStartAM=&courseEndHour=&courseEndMin=&courseEndAM=&teachingCenter=ALL&_classDay1=on&_classDay2=on&_classDay3=on&_classDay4=on&_classDay5=on'\n",
    "    r = requests.get(url = major_url)\n",
    "    major_soup = BeautifulSoup(r.content, 'html.parser')\n",
    "    class_list = major_soup.find_all('div',{'class':'course'})\n",
    "    for c in class_list:\n",
    "        course_id = c['id']\n",
    "        blended_section_container_list= c.find_all('div',{'class':'section delivery-blended'})\n",
    "        f2f_section_container_list = c.find_all('div',{'class':'section delivery-f2f'})\n",
    "        df = addCourseInfo(df,blended_section_container_list) \n",
    "        df = addCourseInfo(df,f2f_section_container_list) \n",
    "df"
   ]
  },
  {
   "cell_type": "code",
   "execution_count": 10,
   "id": "proved-denmark",
   "metadata": {},
   "outputs": [
    {
     "name": "stdout",
     "output_type": "stream",
     "text": [
      "('table', 'in_person_courses_table', 'in_person_courses_table', 2, 'CREATE TABLE \"in_person_courses_table\" (\\n\"Major\" TEXT,\\n  \"Course_id\" TEXT,\\n  \"Section\" TEXT,\\n  \"Building\" TEXT,\\n  \"Classroom\" TEXT,\\n  \"Section_days\" TEXT,\\n  \"Start_time\" TEXT,\\n  \"End_time\" TEXT,\\n  \"Students_number\" INTEGER\\n)')\n"
     ]
    }
   ],
   "source": [
    "con = sqlite3.connect(\"in_person_courses.sqlite\")\n",
    "cursor1 = con.cursor()\n",
    "df.to_sql('in_person_courses_table', con, if_exists='replace', index=False)\n",
    "\n",
    "# Showing all table in the new created databse\n",
    "x = cursor1.execute(\"SELECT * FROM sqlite_master where type='table'\")\n",
    "for y in x.fetchall():\n",
    "    print(y)"
   ]
  },
  {
   "cell_type": "code",
   "execution_count": 12,
   "id": "documentary-construction",
   "metadata": {},
   "outputs": [],
   "source": [
    "df.to_csv(r'in_person_courses.csv',index=False)"
   ]
  }
 ],
 "metadata": {
  "kernelspec": {
   "display_name": "Python 3",
   "language": "python",
   "name": "python3"
  },
  "language_info": {
   "codemirror_mode": {
    "name": "ipython",
    "version": 3
   },
   "file_extension": ".py",
   "mimetype": "text/x-python",
   "name": "python",
   "nbconvert_exporter": "python",
   "pygments_lexer": "ipython3",
   "version": "3.8.6"
  }
 },
 "nbformat": 4,
 "nbformat_minor": 5
}
